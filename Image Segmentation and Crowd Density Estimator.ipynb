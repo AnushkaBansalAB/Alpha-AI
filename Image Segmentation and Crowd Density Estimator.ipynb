{
 "cells": [
  {
   "cell_type": "code",
   "execution_count": null,
   "metadata": {},
   "outputs": [],
   "source": [
    "import cv2\n",
    "import imutils\n",
    "import math\n",
    "import os"
   ]
  },
  {
   "cell_type": "code",
   "execution_count": null,
   "metadata": {},
   "outputs": [],
   "source": [
    "#hog = cv2.HOGDescriptor()\n",
    "#hog.setSVMDetector(cv2.HOGDescriptor_getDefaultPeopleDetector())"
   ]
  },
  {
   "cell_type": "code",
   "execution_count": null,
   "metadata": {},
   "outputs": [],
   "source": [
    "face_model = cv2.CascadeClassifier('haarcascade_fullbody.xml')\n",
    "cap = cv2.VideoCapture(\"testing video.avi\")"
   ]
  },
  {
   "cell_type": "code",
   "execution_count": null,
   "metadata": {},
   "outputs": [],
   "source": [
    "def faceCapture(username):\n",
    "\n",
    "    dir_loc = \"Images/\"\n",
    "    dir_path = os.path.join(dir_loc, username)\n",
    "    path= os.mkdir(dir_path)"
   ]
  },
  {
   "cell_type": "code",
   "execution_count": null,
   "metadata": {},
   "outputs": [],
   "source": [
    " #vid = cv2.VideoCapture(\"aa.avi\")"
   ]
  },
  {
   "cell_type": "code",
   "execution_count": null,
   "metadata": {},
   "outputs": [],
   "source": [
    "#ret, frame = vid.read()\n",
    "    text1= 'ALERT: CLOSE! CLOSE! CLOSE!'\n",
    "    cv2.putText(image,text1,(200,50), cv2.FONT_HERSHEY_SIMPLEX, 1, (200,255,155), 3, cv2.LINE_AA)\n",
    "    filename = \"Images/\"+ username +\"/%d.jpg\"  # You need to create a images directory in ur WorkSpace.\n",
    "    cv2.imwrite(filename, image)"
   ]
  },
  {
   "cell_type": "code",
   "execution_count": null,
   "metadata": {},
   "outputs": [],
   "source": [
    "t=str(0)\n",
    "while cap.isOpened():\n",
    "    # Reading the video stream\n",
    "    \n",
    "    ret, image = cap.read()\n",
    "    if ret:\n",
    "        '''image = imutils.resize(image,width=min(600, image.shape[1]))\n",
    "        # Detecting all the regions\n",
    "        # in the Image that has a\n",
    "        # pedestrians inside it\n",
    "        (Cor, _) = hog.detectMultiScale(image, winStride=(4, 4),padding=(4, 4),scale=1.05)\n",
    "        l = len(Cor)'''\n",
    "        Cor= face_model.detectMultiScale(image)\n",
    "        l = len(Cor)\n",
    "        #text1= 'TOTAL: '+ str(l)\n",
    "        #cv2.putText(image,text1,(400,50), cv2.FONT_HERSHEY_SIMPLEX, 1, (200,255,155), 3, cv2.LINE_AA)\n",
    "        s1=[]\n",
    "        s2=[]\n",
    "        r=40"
   ]
  },
  {
   "cell_type": "code",
   "execution_count": null,
   "metadata": {},
   "outputs": [],
   "source": [
    "  rad=80\n",
    "        # Drawing the regions in the\n",
    "        # Image\n",
    "        print(len(Cor))\n",
    "        if len(Cor) == 0:\n",
    "            pass\n",
    "        else:\n",
    "            for i in range (l):\n",
    "                x1  = Cor[i][0]\n",
    "                y1 =  Cor[i][1]\n",
    "                x2 = x1 + Cor[i][2]\n",
    "                y2 = y1 + Cor[i][3]\n",
    "                c1=int((x1+x2)/2)\n",
    "                c2=int((y1+y2)/2)\n",
    "                s1.append(c1)\n",
    "                s2.append(c2)\n",
    "                #print(i)\n",
    "                #print(c1[i])\n",
    "                #print(c1)\n",
    "                #print(c2)"
   ]
  },
  {
   "cell_type": "code",
   "execution_count": null,
   "metadata": {},
   "outputs": [],
   "source": [
    "\n",
    "                '''ft = 0.9144\n",
    "                radius = math.sqrt((c1*c1) + (c2*c2))\n",
    "                radius = (2*3.14*ft) + radius'''\n",
    "                radius=50\n",
    "                image = cv2.rectangle(image , (x1,  y1) , (x2, y2), [0,255,0], 3)\n",
    "                #image1 = cv2.circle(image, (c1,  c2), int(radius), [0,0,255], 2, 3)\n",
    "                #photo[c1:c1+10]=[255,0,0]\n",
    "                image[c2:c2+5,c1:c1+5]=[255,0,0]\n",
    "                for j in range(len(s1)):\n",
    "                    for i in range(len(s1)):\n",
    "                        #center_coordinates=(s1[j],s2[j])\n",
    "                        #image= cv2.circle(image, center_coordinates, r, (0, 0, 255),2)\n",
    "                        if i==j:\n",
    "                            pass\n",
    "                        else:\n",
    "                            distance = math.sqrt( ((s1[j]-s1[i])*2)+((s2[j]-s2[i])*2) )\n",
    "                            print(distance)\n",
    "                            #print(j)\n",
    "                            #print(i)\n",
    "                            if distance<rad:\n",
    "                                print(\"CLOSE! CLOSE!\")\n",
    "                                faceCapture(\"Sam\"+t)\n",
    "                                x=int(t)\n",
    "                                #print(\"valuet\",t)\n",
    "                                #print(\"valuex\",x)\n",
    "                                #print(type(x))\n",
    "                                x+=1\n",
    "                                t=str(x)\n",
    "                                image= cv2.circle(image, (s1[j],s2[j]), radius, (255, 0, 0),2)\n",
    "                                image= cv2.circle(image, (s1[i],s2[i]), radius, (255, 0, 0),2"
   ]
  },
  {
   "cell_type": "code",
   "execution_count": null,
   "metadata": {},
   "outputs": [],
   "source": [
    "#photo[int(((face_cor[i][1])+((face_cor[i][1]) + face_cor[i][3]))/2):int(((face_cor[i][1])+((face_cor[i][1]) + face_cor[i][3]))/2)+5]=[255,0,0]\n",
    "        # Showing the output Image\n",
    "        cv2.imshow(\"Image\", image)\n",
    "        if cv2.waitKey(10)==13:\n",
    "            break\n",
    "    else:\n",
    "        break"
   ]
  },
  {
   "cell_type": "code",
   "execution_count": null,
   "metadata": {},
   "outputs": [],
   "source": [
    "cap.release()\n",
    "cv2.destroyAllWindows()"
   ]
  }
 ],
 "metadata": {
  "kernelspec": {
   "display_name": "Python 3",
   "language": "python",
   "name": "python3"
  },
  "language_info": {
   "codemirror_mode": {
    "name": "ipython",
    "version": 3
   },
   "file_extension": ".py",
   "mimetype": "text/x-python",
   "name": "python",
   "nbconvert_exporter": "python",
   "pygments_lexer": "ipython3",
   "version": "3.8.5"
  }
 },
 "nbformat": 4,
 "nbformat_minor": 4
}
